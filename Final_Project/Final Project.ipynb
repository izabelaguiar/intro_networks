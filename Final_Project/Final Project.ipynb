{
 "cells": [
  {
   "cell_type": "markdown",
   "id": "grave-choir",
   "metadata": {},
   "source": [
    "# Final Project\n",
    "The goal of the final project is to practice what we've learned in the class, on a real network dataset. You'll need to combine the intuition and framework of what we've learned during lectures with the toolset we've covered during computer labs. Plus, you'll be asked to creatively think about your dataset outside the scope of the tools you have. \n",
    "\n",
    "Your final project will be done in groups of 2-3 people (no exceptions for larger or smaller groups). Your presentation and writeup will be graded on the inclusion of the items in the following description. \n",
    "\n",
    "## Final Project Guidelines\n",
    "For your final project, your team will be asked to complete the following tasks\n",
    "* Decide what network you'd like to study. There are options and ideas below.\n",
    "* Learn about the network dataset you've been assigned. Describe it for us. \n",
    "    * what are the nodes?\n",
    "        * How many nodes are there?\n",
    "    * what are the edges?\n",
    "        * How many edges are there?\n",
    "    * Is it weighted or unweighted?\n",
    "        * If weighted, what do the weights represent/mean?\n",
    "    * directed or undirected?\n",
    "    * is it connected or disconnected? if disconnected, is there a giant component?\n",
    "    * Is there anything interesting or weird about it?\n",
    "    * What's the context of this network?\n",
    "    * Do you have access to any metadata about the nodes?\n",
    "* Create an adjacency matrix for your matrix using your `.csv` file\n",
    "* Plot your network\n",
    "* Find the most central node(s) in your network \n",
    "    * Do so for each of the four centrality metrics we've discussed in class. \n",
    "        * Plot your network with a different colour for each \"most central\" node\n",
    "    * Do the centrality metrics identify different node(s) as the \"most central\"? \n",
    "    * Given the context of your dataset, interpret which centrality metric _you_ think is most informative. Explain.\n",
    "* Find and plot the communities in your network\n",
    "    * We've only discussed one graph partitioning algorithm to do this: Girvan-Newman. \n",
    "    * Do the identified communities make sense given the context of your data?\n",
    "* Report on and interpret one more attribute of the data. Examples are:\n",
    "    * Average (in/out-)degree\n",
    "    * Average clustering coefficient\n",
    "    * Degree distribution \n",
    "    * Average shortest path\n",
    "    * [Anything documented here](https://networkx.org/documentation/stable/reference/algorithms/index.html)\n",
    "        * NOTE: If you report on an attribute of the data that we have _not_ covered in class, you are expected to _understand it_ well enough to describe it to the class. You are welcome to come to my office hours to discuss this, or to make an appointment with me. Most of the `networkx` documentation includes a description of the method/metric/algorithm\n",
    "* Conclude\n",
    "    * Do you think about this dataset differently than you did before? \n",
    "    * Did you learn anything about the discipline/domain the network lies in?\n",
    "    * What's something you wish you could learn about the network that you might not have a tool for?\n",
    "    * Is there any metadata about the nodes/edges that you wish you could have to interpret your findings better?"
   ]
  },
  {
   "cell_type": "code",
   "execution_count": 1,
   "id": "british-kennedy",
   "metadata": {},
   "outputs": [],
   "source": [
    "import networkx as nx"
   ]
  },
  {
   "cell_type": "markdown",
   "id": "numerous-joining",
   "metadata": {},
   "source": [
    "# Final Report\n",
    "Your final report should address each of the points above and should include the code you wrote and the plots you got for each section. You should write this final report in a Jupyter Notebook, which you then download as a pdf compiled with LaTeX. If you don't have LaTeX on your machine, you can also do File -> Download As -> LaTeX. Then open the downloaded LaTeX file with a basic text editor, and copy and paste it into [Overleaf](https://www.overleaf.com/). \n",
    "\n",
    "You should submit your compiled report to one team member's GitHub by 1PM on Thursday, February 2. Tag `@izabel-aguiar` and your team members' GitHub account tags in the description of the commit. \n",
    "\n",
    "# Final Presentation\n",
    "Your team will be asked to give a 10 minute presentation of your findings to the class on our last day, February 2. Bring one team member's computer for sharing the presentation. If you don't feel you'll have time to present all your findings, you may pick a few that you find most interesting. "
   ]
  },
  {
   "cell_type": "markdown",
   "id": "experienced-layer",
   "metadata": {},
   "source": [
    "# Network options\n",
    "The following are all examples of networks you can study for your final project. When you submit your project proposal, I will reply with a `.csv` or `.npy` file of the network data you've chosen to study. Please read the abstract of the corresponding paper, or find relevant information about your network prior to choosing it to study. \n",
    "\n",
    "* [The Diffusion of Microfinance Village(s)](https://economics.mit.edu/sites/default/files/2022-08/science.1236498.pdf)\n",
    "    * Any of twelve different types of relationships between people in a village in southern India\n",
    "* [Gossip Village data](http://stanford.edu/~arungc/BCDJ_gossip.pdf)\n",
    "    * Any of seven different types of relationships between people in a village in southern India\n",
    "* [London Underground Transportation Network](https://tfl.gov.uk)\n",
    "    * Nodes are stations and weighted edges connect stations if there is an underground route between them\n",
    "* [Social network of physicians in Illinois](https://www.google.com/url?sa=t&rct=j&q=&esrc=s&source=web&cd=&ved=2ahUKEwiPvaedh9X8AhUalYkEHVk5A-4QFnoECAsQAQ&url=https%3A%2F%2Fwww.suz.uzh.ch%2Fdam%2Fjcr%3Affffffff-f952-f950-ffff-ffffdde58273%2F03.18_coleman_et-al_57.pdf&usg=AOvVaw0sBH1zgvLf6Y_yCbwgTBhH)\n",
    "    * Any of three interactions between physicians (advice, collaboration, or friendship)\n",
    "* [Caenorhabditis elegans connectome ](https://doi-org.stanford.idm.oclc.org/10.1073/pnas.0506806103)\n",
    "    * Neuron synaptic interactions of the [roundworm](https://g.co/kgs/mfH4qs)\n",
    "* [Various genetic/protein interactions](https://thebiogrid.org)\n",
    "* [Microbiome interactions](https://www.nature.com/articles/nature13178)\n",
    "    * in any of 18 human body sites\n",
    "* [Food and Agriculture Organization of the UN: Food imports/exports between countries](http://www.fao.org/)\n",
    "    * Look at imports/exports of any of 300+ food groups between countries\n",
    "* Collect your own social network data from friends/sports team \n",
    "    * I have a python script that can help you with this!\n",
    "    * or you can do this easily with an excel/google sheet\n",
    "    * There must be at least 20 people in your network.\n",
    "* [Les Mis characters](http://www-personal.umich.edu/~mejn/netdata/)\n",
    "    * Coappearance network of characters in the novel Les Miserables.\n",
    "* [_David Copperfield_ words](http://www-personal.umich.edu/~mejn/netdata/)\n",
    "    * adjacency network of common adjectives and nouns in the novel David Copperfield by Charles Dickens\n",
    "* [Dolphins social network](http://www-personal.umich.edu/~mejn/netdata/)\n",
    "    * frequent associations between 62 dolphins in a community living off Doubtful Sound, New Zealand\n",
    "* [Any network here](https://snap.stanford.edu/data/#socnets)\n",
    "    * e.g.,\n",
    "        * who-trusts-whom network of people who trade using Bitcoin\n",
    "        * circles' (or 'friends lists') from Facebook\n",
    "        * Hyperlinks between subreddits on Reddit\n",
    "* [Any network here](https://manliodedomenico.com/data.php)\n",
    "    * These are all \"multilayer networks\": networks wherein multiple _types_ of relationships are defined over the same nodeset. You'll need to pick one layer of these graphs to study-- we can talk about it.\n",
    "* [Interactions between Yeast Proteins](http://vlado.fmf.uni-lj.si/pub/networks/data/bio/Yeast/Yeast.htm)\n",
    "* [Jazz Musicians Collaborations](https://deim.urv.cat/~alexandre.arenas/data/welcome.htm)\n",
    "    * [paper](https://arxiv.org/abs/cond-mat/0307434)"
   ]
  },
  {
   "cell_type": "code",
   "execution_count": null,
   "id": "thrown-divorce",
   "metadata": {},
   "outputs": [],
   "source": []
  }
 ],
 "metadata": {
  "kernelspec": {
   "display_name": "Python 3",
   "language": "python",
   "name": "python3"
  },
  "language_info": {
   "codemirror_mode": {
    "name": "ipython",
    "version": 3
   },
   "file_extension": ".py",
   "mimetype": "text/x-python",
   "name": "python",
   "nbconvert_exporter": "python",
   "pygments_lexer": "ipython3",
   "version": "3.8.8"
  }
 },
 "nbformat": 4,
 "nbformat_minor": 5
}

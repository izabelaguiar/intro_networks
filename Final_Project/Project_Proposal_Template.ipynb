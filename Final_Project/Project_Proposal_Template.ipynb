{
 "cells": [
  {
   "cell_type": "markdown",
   "id": "dying-spectrum",
   "metadata": {},
   "source": [
    "# Project Proposal\n",
    "## Group members here\n",
    "\n",
    "For our final project, we will be analyzing the [PUT NETWORK HERE] network. We have each read the abstract of the corresponding paper for which this data was originally collected, and if there was no corresponding paper we have researched the context of this dataset. We are interested in studying this network because [INSERT 2-3 SENTENCES HERE].\n",
    "\n",
    "We have each read the project guidelines document. After reading the guidelines, we anticipate needing help with [PUT SOMETHING HERE IF YOU'D LIKE TO].\n",
    "\n",
    "We've decided on the following distribution of labor for our final project:\n",
    "* Team Member 1\n",
    "    * Tasks\n",
    "* Team Member 2\n",
    "    * Tasks\n",
    "* Team Member 3\n",
    "    * Tasks\n",
    "* All team members, equally\n",
    "    * Tasks to be shared"
   ]
  },
  {
   "cell_type": "code",
   "execution_count": null,
   "id": "verified-caribbean",
   "metadata": {},
   "outputs": [],
   "source": []
  }
 ],
 "metadata": {
  "kernelspec": {
   "display_name": "Python 3",
   "language": "python",
   "name": "python3"
  },
  "language_info": {
   "codemirror_mode": {
    "name": "ipython",
    "version": 3
   },
   "file_extension": ".py",
   "mimetype": "text/x-python",
   "name": "python",
   "nbconvert_exporter": "python",
   "pygments_lexer": "ipython3",
   "version": "3.8.8"
  }
 },
 "nbformat": 4,
 "nbformat_minor": 5
}

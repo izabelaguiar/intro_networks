{
 "cells": [
  {
   "cell_type": "code",
   "execution_count": null,
   "id": "sharp-pipeline",
   "metadata": {},
   "outputs": [],
   "source": [
    "import numpy as np\n",
    "import copy"
   ]
  },
  {
   "cell_type": "code",
   "execution_count": null,
   "id": "accessory-combine",
   "metadata": {},
   "outputs": [],
   "source": [
    "def make_roster(roster = None):\n",
    "    if roster is None:\n",
    "        roster = []\n",
    "    add_more = True\n",
    "    while add_more == True:\n",
    "        print('Roster: ', roster)\n",
    "        add = input(\"Would you like to add anybody to your roster? (Type Y for yes or N for no) \")\n",
    "        if add == 'Y':\n",
    "            add_more = True\n",
    "            name = input(\"Type the name to add to the roster: \")\n",
    "            roster.append(name)\n",
    "        elif add == 'N':\n",
    "            add_more = False\n",
    "        else:\n",
    "            add_more = True\n",
    "    return(roster)\n",
    "\n",
    "def collect_new(roster, adj):\n",
    "    print(roster)\n",
    "    ind_roster = copy.copy(roster)\n",
    "    correct_name = False\n",
    "    while not correct_name:\n",
    "        name = input( \"Please type your name as it appears in the above list: \")\n",
    "        if name in roster:\n",
    "            ID = roster.index(name)\n",
    "            correct_name = True\n",
    "        else:\n",
    "            correct_name = False\n",
    "    ind_roster.remove(name)\n",
    "    know_someone = True\n",
    "    while know_someone:\n",
    "        print(ind_roster)\n",
    "        K = input(\"Are you friends with anybody on the below list? (Type Y for yes or N for no)\")\n",
    "        if K == 'Y':\n",
    "            print(ind_roster)\n",
    "            know_someone = True\n",
    "            correct_friend = False\n",
    "            while not correct_friend:\n",
    "                friend_name = input( \"Please write the name of the person you're friends with exactly as it appears above: \")\n",
    "                if friend_name in ind_roster:\n",
    "                    friend_ID = roster.index(friend_name)\n",
    "                    correct_friend = True\n",
    "                    adj[ID, friend_ID] = 1\n",
    "                    ind_roster.remove(friend_name)\n",
    "                else:\n",
    "                    correct_friend = False\n",
    "        elif K == 'N':\n",
    "            know_someone = False\n",
    "        else:\n",
    "            know_someone = True\n",
    "    print('Thanks for participating in this survey!')\n",
    "    return adj"
   ]
  },
  {
   "cell_type": "code",
   "execution_count": null,
   "id": "rough-buddy",
   "metadata": {},
   "outputs": [],
   "source": [
    "roster = make_roster()"
   ]
  },
  {
   "cell_type": "code",
   "execution_count": null,
   "id": "strong-thailand",
   "metadata": {},
   "outputs": [],
   "source": [
    "adj = np.zeros((len(roster), len(roster)))"
   ]
  },
  {
   "cell_type": "code",
   "execution_count": null,
   "id": "comparative-auditor",
   "metadata": {},
   "outputs": [],
   "source": [
    "adj = collect_new(roster, adj)"
   ]
  },
  {
   "cell_type": "code",
   "execution_count": null,
   "id": "clean-respondent",
   "metadata": {},
   "outputs": [],
   "source": [
    "np.save('MyRoster', np.array(roster))\n",
    "np.save('MyAdj', adj)"
   ]
  }
 ],
 "metadata": {
  "kernelspec": {
   "display_name": "Python 3",
   "language": "python",
   "name": "python3"
  },
  "language_info": {
   "codemirror_mode": {
    "name": "ipython",
    "version": 3
   },
   "file_extension": ".py",
   "mimetype": "text/x-python",
   "name": "python",
   "nbconvert_exporter": "python",
   "pygments_lexer": "ipython3",
   "version": "3.8.8"
  }
 },
 "nbformat": 4,
 "nbformat_minor": 5
}

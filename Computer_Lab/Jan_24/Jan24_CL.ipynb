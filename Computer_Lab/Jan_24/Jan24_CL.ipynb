{
 "cells": [
  {
   "cell_type": "markdown",
   "id": "divine-communications",
   "metadata": {},
   "source": [
    "# January 24 Computer Lab!\n",
    "## Write your name here\n",
    "\n",
    "The main goal of today is to learn about the remaining code toolset you'll need for your final projects.\n",
    "\n",
    "Last week, we went over:\n",
    "- Adjacency matrices \n",
    "- using `numpy`\n",
    "- importing network data\n",
    "- using [`networkx`](https://networkx.org) to visualize networks\n",
    "\n",
    "This week, we'll go over: \n",
    "* Figuring out the number of edges in your network\n",
    "* Determining if your graph is directed or not\n",
    "* Metadata on node attributes\n",
    "* Datasets in `networkx`\n",
    "* Centrality metrics\n",
    "* Hubs and Authorities\n",
    "* Clustering coefficient\n",
    "* Path length\n",
    "* Degree distributions\n",
    "* Connectivity\n",
    "* Graph Partitioning\n",
    "* Plotting node communities/partitions\n",
    "\n",
    "The first part of today will be more self-guided so that you can practice the correct syntax of what we learned last week. If you're not sure how to do something, you can check out our CL from last week or ask me. \n",
    "\n",
    "Once we get to new material, we'll go through it together, and then you'll have another opportunity to practice the new skills."
   ]
  },
  {
   "cell_type": "markdown",
   "id": "suited-clothing",
   "metadata": {},
   "source": [
    "## TODO: Import the packages we'll use\n",
    "If you're not sure, check out our computer lab from last week"
   ]
  },
  {
   "cell_type": "code",
   "execution_count": null,
   "id": "difficult-thomas",
   "metadata": {},
   "outputs": [],
   "source": [
    "import numpy as np\n",
    "import networkx as nx\n",
    "import matplotlib.pyplot as plt"
   ]
  },
  {
   "cell_type": "markdown",
   "id": "excess-shelter",
   "metadata": {},
   "source": [
    "## TODO: Import today's network data\n",
    "\n",
    "The network we'll be looking at today is the friendship network of a 1980's tech firm, as perceived by the firm's president.\n",
    "Import this network as a numpy array named `Tech_Friends`. The network is saved in the file `krackhardt_prez.npy`. "
   ]
  },
  {
   "cell_type": "code",
   "execution_count": null,
   "id": "atlantic-stress",
   "metadata": {},
   "outputs": [],
   "source": []
  },
  {
   "cell_type": "markdown",
   "id": "contained-diversity",
   "metadata": {},
   "source": [
    "## TODO: Plot the network\n",
    "Remember that in order to plot the network, you need to \n",
    "* Make a graph object (this graph is directed!)\n",
    "    * Name the graph object `Tech_Friends_G`\n",
    "* Determine the positions of the nodes in the network\n",
    "* Draw the graph "
   ]
  },
  {
   "cell_type": "code",
   "execution_count": null,
   "id": "civilian-requirement",
   "metadata": {},
   "outputs": [],
   "source": []
  },
  {
   "cell_type": "markdown",
   "id": "acting-government",
   "metadata": {},
   "source": [
    "## Basic network attributes\n",
    "Above I wrote that our network was directed, but another way you could check is to see if the network's adjacency matrix is the same as its _transpose_. Remember, the _transpose_ of a matrix is what you get when you think of all of the columns as rows, and all of the rows as columns:"
   ]
  },
  {
   "cell_type": "code",
   "execution_count": null,
   "id": "extraordinary-grace",
   "metadata": {},
   "outputs": [],
   "source": [
    "A = np.array([[0, 0, 1], [1, 0, 1], [0, 1, 1]])\n",
    "print(A)\n",
    "print()\n",
    "print(A.T)"
   ]
  },
  {
   "cell_type": "markdown",
   "id": "brave-teach",
   "metadata": {},
   "source": [
    "In the small example above, we can _see_ that different matrices were printed when we compared the matrix with its transpose. This can be harder with bigger datasets. Another way to check is using `numpy`'s `all_close` function, which checks each entry of the two matrices it's asked to compare."
   ]
  },
  {
   "cell_type": "code",
   "execution_count": null,
   "id": "studied-wright",
   "metadata": {},
   "outputs": [],
   "source": [
    "np.allclose(A, A.T)"
   ]
  },
  {
   "cell_type": "markdown",
   "id": "funded-adoption",
   "metadata": {},
   "source": [
    "If this function returns `True`, it means that the matrix and its _transpose_ are the same, and therefore, that the network is undirected. If this function returns `False`, it means that the matrix and its transpose are **not** the same, and therefore, that the network is directed. \n",
    "\n",
    "## TODO: How many nodes are there in our network?\n",
    "Use the adjacency matrix and a function we learned last week to print how many nodes/people there are in our friendship network. Save the number of nodes as the variable `N`."
   ]
  },
  {
   "cell_type": "code",
   "execution_count": null,
   "id": "bacterial-commission",
   "metadata": {},
   "outputs": [],
   "source": [
    "N = "
   ]
  },
  {
   "cell_type": "markdown",
   "id": "fatty-camping",
   "metadata": {},
   "source": [
    "# How many edges?\n",
    "\n",
    "Something else we might want to do is find out how many _edges_ there are in a network. There are two ways we could do this, one using the adjacency matrix, and one using `networkx`. \n",
    "\n",
    "To think about how we can use the adjacency matrix, think about how (unweighted) edges are represented. If there is an edge between nodes $i$ and $j$ in the network, then the `[i,j]` entry of the adjacency matrix is equal to 1. In an _undirected_ network, if there is an edge between $i$ and $j$, then not only will `A[i,j]= 1`, but `A[j, i]=1` as well. This means that for one edge, the adjacency matrix has _two_ `1` values. In a directed network, however, each edge will only correspond to _one_ `1` in the adjacency matrix. \n",
    "\n",
    "This gives us our first approach to determining the number of edges in a network, which is to _sum_ up all the values in the adjacency matrix. If there's no edge, then the corresponding `0` won't contribute to the sum, but if there is, we will add `1` for each edge! If we have an undirected network, we'll divide by 2 at the end."
   ]
  },
  {
   "cell_type": "code",
   "execution_count": null,
   "id": "expected-tobacco",
   "metadata": {},
   "outputs": [],
   "source": [
    "np.sum(np.sum(Tech_Friends, axis = 0))"
   ]
  },
  {
   "cell_type": "markdown",
   "id": "interior-spread",
   "metadata": {},
   "source": [
    "If we want to check this, or if we already have our network saved as a `networkx` graph object, we can check "
   ]
  },
  {
   "cell_type": "code",
   "execution_count": null,
   "id": "bibliographic-willow",
   "metadata": {},
   "outputs": [],
   "source": [
    "print(Tech_Friends_G.number_of_edges())"
   ]
  },
  {
   "cell_type": "markdown",
   "id": "presidential-coaching",
   "metadata": {},
   "source": [
    "## Metadata\n",
    "\n",
    "Sometimes we'll have _metadata_ about the nodes in our network. This could be anything from the person's self-identified nationality to the [upstream promoter regions (UPS) of a genetic sequence](https://drive.google.com/open?id=1Kwhpl2djID0584KvzjaA8mIzcLdtdmzq).\n",
    "\n",
    "For the case of our `Tech_Friends` network, we have metadata about each node's Age, Department, Level, and Tenure at the company. Each of these are stored in the files `Age.npy`, `Dept.npy`, `Level.npy`, and `Tenure.npy`, respectively. \n",
    "\n",
    "Metadata can be helpful in corroborating our findings after doing analysis on a network. For example, what can we say if we know the age of our most central node? For now, let's just print the number of years each node in our  network has been at the company."
   ]
  },
  {
   "cell_type": "code",
   "execution_count": null,
   "id": "immediate-tower",
   "metadata": {},
   "outputs": [],
   "source": [
    "Tenure = np.load('Tenure.npy')\n",
    "for i in range(N):\n",
    "    print('Person {} has been in the company for {} years'.format(i, Tenure[i]))"
   ]
  },
  {
   "cell_type": "markdown",
   "id": "apparent-venue",
   "metadata": {},
   "source": [
    "We'll see how to use the other metadata later.\n",
    "\n",
    "# Datasets in `networkx`\n",
    "The package `networkx` has [some datasets](https://networkx.org/documentation/stable/auto_examples/graph/index.html) already saved as graph objects. For example, the Karate Club that we talked about in the first week of class is already saved for us! Let's load it."
   ]
  },
  {
   "cell_type": "code",
   "execution_count": null,
   "id": "juvenile-surfing",
   "metadata": {},
   "outputs": [],
   "source": [
    "Karate = nx.karate_club_graph()\n",
    "plt.figure(figsize = (12,8))\n",
    "k_pos = nx.spring_layout(Karate, k=0.05)\n",
    "nx.draw(Karate, k_pos, node_color='c', node_size=500, edge_color='grey', with_labels=True)"
   ]
  },
  {
   "cell_type": "markdown",
   "id": "solid-catalog",
   "metadata": {},
   "source": [
    "## TODO: How many edges are in this network?"
   ]
  },
  {
   "cell_type": "code",
   "execution_count": null,
   "id": "coated-front",
   "metadata": {},
   "outputs": [],
   "source": []
  },
  {
   "cell_type": "markdown",
   "id": "light-cable",
   "metadata": {},
   "source": [
    "## Metadata in `networkx`\n",
    "The Karate Club network has also saved node attributes using `networkx`. "
   ]
  },
  {
   "cell_type": "code",
   "execution_count": null,
   "id": "brave-accused",
   "metadata": {},
   "outputs": [],
   "source": [
    "for node in Karate.nodes():\n",
    "    print('node', node, 'is in ', Karate.nodes[node]['club'],'`s', 'club')"
   ]
  },
  {
   "cell_type": "markdown",
   "id": "legendary-america",
   "metadata": {},
   "source": [
    "Looking at how `networkx` has saved each node's club membership gives us a new way to store each node's metadata. "
   ]
  },
  {
   "cell_type": "code",
   "execution_count": null,
   "id": "every-wallet",
   "metadata": {},
   "outputs": [],
   "source": [
    "Level = np.load('Level.npy')\n",
    "Dept = np.load('Dept.npy')\n",
    "Age = np.load('Age.npy')\n",
    "\n",
    "for node in Tech_Friends_G.nodes(): # loop over all the nodes\n",
    "    Tech_Friends_G.nodes[node]['Level'] = Level[node]\n",
    "    Tech_Friends_G.nodes[node]['Tenure'] = Tenure[node]\n",
    "    Tech_Friends_G.nodes[node]['Department'] = Dept[node]\n",
    "    Tech_Friends_G.nodes[node]['Age'] = Age[node]\n",
    "\n",
    "for node in Tech_Friends_G.nodes():\n",
    "    print('node ', node, 'is ', Tech_Friends_G.nodes[node]['Age'], ' years old.')"
   ]
  },
  {
   "cell_type": "markdown",
   "id": "dangerous-decimal",
   "metadata": {},
   "source": [
    "## Centrality in `networkx`\n",
    "The four centrality metrics we've gone over in class (degree, closeness, betweenness, and eigenvector centrality) are all already coded up for us in `networkx`. To use them, we just have to use the functions `nx.TYPE_centrality(G)` where we replace `TYPE` with either `degree`, `eigenvector`, `closeness`, or `betweenness`, and replace `G` with the name of our network object."
   ]
  },
  {
   "cell_type": "code",
   "execution_count": null,
   "id": "cooperative-craft",
   "metadata": {},
   "outputs": [],
   "source": [
    "a = nx.degree_centrality(Karate)\n",
    "d = nx.closeness_centrality(Karate)\n",
    "b = nx.eigenvector_centrality(Karate)\n",
    "c = nx.betweenness_centrality(Karate)\n",
    "\n",
    "print('The person with highest degree centrality is', max(a, key=lambda key: a[key]))\n",
    "print('The person with highest closeness centrality is', max(d, key=lambda key: d[key]))\n",
    "print('The person with highest eigenvector centrality is', max(b, key=lambda key: b[key]))\n",
    "print('The person with highest betweenness centrality is', max(c, key=lambda key: c[key]))"
   ]
  },
  {
   "cell_type": "markdown",
   "id": "rough-affair",
   "metadata": {},
   "source": [
    "## Graph partitioning\n",
    "We'll use `networkx`'s Girvan-Newman algorithm to find the community structure in the Karate network. The object that the function returns is kind of tricky, so we'll have some helper-code to store it in an easier format."
   ]
  },
  {
   "cell_type": "code",
   "execution_count": null,
   "id": "large-wallpaper",
   "metadata": {},
   "outputs": [],
   "source": [
    "comm = nx.algorithms.community.girvan_newman(Karate)\n",
    "gn_communities = tuple(sorted(c) for c in next(comm))"
   ]
  },
  {
   "cell_type": "markdown",
   "id": "violent-culture",
   "metadata": {},
   "source": [
    "I've written some more helper-code for _plotting_ the  communities in our network."
   ]
  },
  {
   "cell_type": "code",
   "execution_count": null,
   "id": "premium-proceeding",
   "metadata": {},
   "outputs": [],
   "source": [
    "import matplotlib.cm as cmx\n",
    "def Plot_Comm(Network, C, position = None):\n",
    "    cmap = cmx.get_cmap(name='rainbow')\n",
    "    N = len(Network.nodes())\n",
    "    K = len(C)\n",
    "    color_map = ['k']*N\n",
    "    for i in range(K):\n",
    "        for j in range(len(C[i])):\n",
    "            color_map[ C[i][j] ] = cmap(i/K)\n",
    "    if position is None:\n",
    "        pos = nx.spring_layout(Network, k=0.25,iterations=20)\n",
    "    else:\n",
    "        pos = position\n",
    "    fig = plt.figure()\n",
    "    nx.draw(Network, pos, node_color=color_map, node_size=300, edge_color='grey', with_labels=True)\n",
    "    plt.show()\n",
    "    return"
   ]
  },
  {
   "cell_type": "markdown",
   "id": "furnished-collins",
   "metadata": {},
   "source": [
    "With this helper-code, all we have to do is call `Plot_Comm(G, comm, pos)` to plot the communities in our network with different colours. `G` is our `networkx` graph object, `comm` is the re-formatted communities object, and `pos` is the position we want to plot the nodes in. Specifying `pos` is optional, if you leave it blank, new positions will be determined."
   ]
  },
  {
   "cell_type": "code",
   "execution_count": null,
   "id": "funky-communication",
   "metadata": {},
   "outputs": [],
   "source": [
    "Plot_Comm(Karate, gn_communities, k_pos)"
   ]
  },
  {
   "cell_type": "markdown",
   "id": "cardiovascular-blade",
   "metadata": {},
   "source": [
    "In this network, there is a _ground truth_ for the community structure, and we can use the node's metadata to check how our graph partitioning did."
   ]
  },
  {
   "cell_type": "code",
   "execution_count": null,
   "id": "perfect-medline",
   "metadata": {},
   "outputs": [],
   "source": [
    "print(Karate.nodes[33]['club'])\n",
    "print(Karate.nodes[28]['club'])\n",
    "print(Karate.nodes[0]['club'])\n",
    "print(Karate.nodes[8]['club'])\n",
    "print(Karate.nodes[2]['club'])"
   ]
  },
  {
   "cell_type": "markdown",
   "id": "preliminary-candy",
   "metadata": {},
   "source": [
    "## Clustering coefficient\n",
    "Recall that the clustering coefficient of a node tells us the probability that any pair of its friends are friends with one another. `networkx` can tell us the clustering coefficient of each node, as well as the average clustering coefficient in the network:"
   ]
  },
  {
   "cell_type": "code",
   "execution_count": null,
   "id": "ultimate-karaoke",
   "metadata": {},
   "outputs": [],
   "source": [
    "clustering = nx.algorithms.clustering(Karate)\n",
    "print('The node with lowest clustering coefficient is', min(clustering, key=lambda key: clustering[key]))\n",
    "\n",
    "average_cc = nx.algorithms.average_clustering(Karate)\n",
    "print('The average clustering coefficient for the Karate network is ', average_cc)"
   ]
  },
  {
   "cell_type": "markdown",
   "id": "frequent-dividend",
   "metadata": {},
   "source": [
    "## Degree distribution\n",
    "The following code plots a histogram of the _degree distribution_ of our network. Each \"bin\" tells us the number of degrees and the height of the bar tells us how many nodes have the same degree."
   ]
  },
  {
   "cell_type": "code",
   "execution_count": null,
   "id": "correct-battlefield",
   "metadata": {},
   "outputs": [],
   "source": [
    "degree_sequence = sorted((d for n, d in Karate.degree()), reverse=True)\n",
    "plt.bar(*np.unique(degree_sequence, return_counts=True))"
   ]
  },
  {
   "cell_type": "markdown",
   "id": "technological-judges",
   "metadata": {},
   "source": [
    "## Connectedness\n",
    "To find out if our network is connected, and to find out how many connected components there are if it's not, we can use the following code:"
   ]
  },
  {
   "cell_type": "code",
   "execution_count": null,
   "id": "indonesian-physiology",
   "metadata": {},
   "outputs": [],
   "source": [
    "print(nx.is_connected(Karate))\n",
    "print(nx.node_connected_component(Karate, 0))\n",
    "print(nx.number_connected_components(Karate))"
   ]
  },
  {
   "cell_type": "markdown",
   "id": "broken-julian",
   "metadata": {},
   "source": [
    "In directed graphs, we can use the functions `nx.number_strongly_connected_components(G)` and `nx.is_strongly_connected(G)`."
   ]
  },
  {
   "cell_type": "markdown",
   "id": "emerging-recommendation",
   "metadata": {},
   "source": [
    "## Shortest path\n",
    "This function tells us the average of all the shortest paths in the network. You can also find the shortest path(s) for all the nodes in the network using [`shortest_path`](https://networkx.org/documentation/stable/reference/algorithms/generated/networkx.algorithms.shortest_paths.generic.shortest_path.html#networkx.algorithms.shortest_paths.generic.shortest_path)."
   ]
  },
  {
   "cell_type": "code",
   "execution_count": null,
   "id": "rough-marshall",
   "metadata": {},
   "outputs": [],
   "source": [
    "print(nx.average_shortest_path_length(Karate))"
   ]
  },
  {
   "cell_type": "markdown",
   "id": "sudden-benefit",
   "metadata": {},
   "source": [
    "## PageRank and Hubs and Authorities\n",
    "As we talked about yesterday, PageRank and Hubs and Authorities can be used meaningfully for things like citation networks (or lots of other networks!). Our Karate network isn't directed, so these results aren't particularly meaningful, but I wanted to put down the syntax here so you can use them for a directed network."
   ]
  },
  {
   "cell_type": "code",
   "execution_count": null,
   "id": "junior-product",
   "metadata": {},
   "outputs": [],
   "source": [
    "PR = nx.pagerank(Karate)\n",
    "H, A = nx.hits(Karate)\n",
    "print('The node with highest PageRank is', max(PR, key=lambda key: PR[key]))\n",
    "print('The node with highest Hub Score is', max(H, key=lambda key: H[key]))\n",
    "print('The node with highest Authority Score is', max(A, key=lambda key: A[key]))"
   ]
  },
  {
   "cell_type": "markdown",
   "id": "black-omaha",
   "metadata": {},
   "source": [
    "## TODO: Plot the `Tech_Friend_G` network\n",
    "Using a _different_ position scheme than the two we've talked about. [Possible options are here](https://networkx.org/documentation/stable/reference/drawing.html)"
   ]
  },
  {
   "cell_type": "code",
   "execution_count": null,
   "id": "backed-bikini",
   "metadata": {},
   "outputs": [],
   "source": []
  },
  {
   "cell_type": "markdown",
   "id": "further-imaging",
   "metadata": {},
   "source": [
    "## TODO: Centrality in `Tech_Friend_G`\n",
    "Use the functions/code above to find the nodes in our tech network with the highest of each centrality."
   ]
  },
  {
   "cell_type": "code",
   "execution_count": null,
   "id": "sought-collectible",
   "metadata": {},
   "outputs": [],
   "source": []
  },
  {
   "cell_type": "markdown",
   "id": "educated-copyright",
   "metadata": {},
   "source": [
    "## TODO: Find and plot the GN communities in the `Friend_Tech_G` network"
   ]
  },
  {
   "cell_type": "code",
   "execution_count": null,
   "id": "elder-baker",
   "metadata": {},
   "outputs": [],
   "source": []
  },
  {
   "cell_type": "markdown",
   "id": "blocked-cradle",
   "metadata": {},
   "source": [
    "## TODO: What is the node with the lowest clustering coefficient? What is the average clustering coefficient?"
   ]
  },
  {
   "cell_type": "code",
   "execution_count": null,
   "id": "facial-tragedy",
   "metadata": {},
   "outputs": [],
   "source": []
  },
  {
   "cell_type": "markdown",
   "id": "piano-seafood",
   "metadata": {},
   "source": [
    "# Challenges:\n",
    "- Look up the `networkx` documentation for the `sigma` function. \n",
    "    * How could we meaningfully use this function to inform us about _how_ a graph is connected?\n",
    "    * Does this have any implications for disease spread? How about happiness? \n",
    "- Look up the `networkx` documentation for the `minimum_edge_cut` function. \n",
    "    * Use this function to find a different graph partitioning. Compare the results to those of Girvan-Newman\n",
    "- Look up the `networkx` documentation for the `girvan_newman` function. \n",
    "    * Find `k=3` communities in the Karate network\n",
    "- Look up the `graph_edit_distance` documentation.\n",
    "    * Use this to think up a way to test for homophily in a network\n",
    "        * Possible hint: you could use an Erdos Renyi graph or another random graph to compare.\n",
    "        * _DISCLAIMER: I just came up with this question on-the-fly; I have no idea if there's a \"good answer\"_"
   ]
  },
  {
   "cell_type": "code",
   "execution_count": null,
   "id": "demographic-master",
   "metadata": {},
   "outputs": [],
   "source": []
  }
 ],
 "metadata": {
  "kernelspec": {
   "display_name": "Python 3",
   "language": "python",
   "name": "python3"
  },
  "language_info": {
   "codemirror_mode": {
    "name": "ipython",
    "version": 3
   },
   "file_extension": ".py",
   "mimetype": "text/x-python",
   "name": "python",
   "nbconvert_exporter": "python",
   "pygments_lexer": "ipython3",
   "version": "3.8.8"
  }
 },
 "nbformat": 4,
 "nbformat_minor": 5
}

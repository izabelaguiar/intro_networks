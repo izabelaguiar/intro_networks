{
 "cells": [
  {
   "cell_type": "markdown",
   "id": "realistic-bernard",
   "metadata": {},
   "source": [
    "# January 17 Computer Lab\n",
    "### Write your name here!\n",
    "\n",
    "- Overview on what we did last week\n",
    "    - GitHub\n",
    "    - The command line\n",
    "    - jupyter notebooks\n",
    "    - python intro\n",
    "    \n",
    "- Adjacency matrices \n",
    "- using `numpy`\n",
    "- importing network data\n",
    "- using [the package](https://networkx.org) `networkx` to visualize networks"
   ]
  },
  {
   "cell_type": "markdown",
   "id": "dominican-college",
   "metadata": {},
   "source": [
    "## Last week's CL\n",
    "\n",
    "### GitHub\n",
    "We'll use GitHub-light: as a place to upload completed CL assignments, a place to collaborate with your group members, and as a general introduction to a service that is used a ton. \n",
    "Let's explore GitHub together. Ask any questions that come up as we do so.\n",
    "\n",
    "### The command line\n",
    "The command line is used to navigate/control your computer without clicking around. It's helpful in so many cases. One of the best parts about the command line (in my opinion) is that if you're ever unsure of how to do something/fix something/check something out on your computer, you can google \"how to __ command line\". You can change weird computer settings there, you can find and save old text messages from there, etc., etc.\n",
    "\n",
    "#### `pip`\n",
    "`pip` is a package manager that we use through the command line. It helps us install python packages easily by just typing `pip install package_name` into our command line. It checks that we have the correct dependencies and versions of everything needed to use the package, and it installs everything for us. \n",
    "\n",
    "\n",
    "### Jupyter Notebooks\n",
    "I use jupyter notebooks for almost everything. If I have to write a big chunk of code to run on a remote server, but I want to debug it and play with it first, I do it here. If I want to take notes on a paper I'm reading, I do it here. I even write all my todo lists and my daily agendas in jupyter noteboks. And, obviously, I use them to teach!\n",
    "\n",
    "I've found that when I have to write a lot of code, it feels intimidating for me to do it in a blank text file or in some IDE (integrated development environment: usually a desktop app that helps with creating, writing, formatting, and executing code). Jupyter notebooks feel so much more approachable to me-- it's easier to comment code, because you can type in markdown cells. It's easier to run tiny bits of code without having to make different files. It's nice to immediately see visualizations and be able to tweak them easily.\n",
    "\n",
    "### Python\n",
    "Python is a coding language that you can learn more about [in any of these tutorials](https://wiki.python.org/moin/BeginnersGuide/NonProgrammers). We won't be covering the philosophy or nitty-gritty details of python or of coding in general. Our focus is going to be on **building a specific toolset that we can use in practice**. While the gist of this specific toolset can be used generally, we'll be focusing on tools that will help us analyse networks.\n",
    "\n",
    "As an introductory class with no prerequisites, there's a wide range of familiarity with coding and with coding in Python.\n",
    "\n",
    "<img src=\"python_familiarity.png\" width = 900>\n",
    "\n",
    "I'm hoping that today's exercise has something in it for everybody! If you're new to python, please tell me if you're overwhelmed. If this is old hat, please read the optional challenge questions."
   ]
  },
  {
   "cell_type": "code",
   "execution_count": 1,
   "id": "tribal-understanding",
   "metadata": {},
   "outputs": [],
   "source": [
    "import numpy as np\n",
    "import networkx as nx\n",
    "import matplotlib.pyplot as plt"
   ]
  },
  {
   "cell_type": "markdown",
   "id": "pending-reasoning",
   "metadata": {},
   "source": [
    "# Matrices and `numpy` arrays\n",
    "\n",
    "Imagine we have a table of values:\n",
    "\n",
    "**<div align=\"center\"> What did you eat yesterday?</div>**\n",
    "\n",
    "| Name | Number of sandwiches eaten | Number of grapes eaten | Number of cookies eaten |\n",
    "| --- | --- | --- | --- |\n",
    "| Izabel | 3 | 24 | 6 |\n",
    "| Anoma | 2 | 8 | 3 |\n",
    "| Brandi | 1 | 0 | 15 |\n",
    "| Emmott | 2 | 11 | 3 |\n",
    "\n",
    "If we wanted to represent this table as a _matrix_, it would look like this:\n",
    "\n",
    "$$\\begin{bmatrix} 3 & 24 & 6 \\\\ 2 & 8 & 3 \\\\ 1 & 0 & 15 \\\\ 2 & 11 & 3 \\end{bmatrix}$$\n",
    "\n",
    "Notice that the row and column names are now implied rather than being explicit as they are in the table. It's still important to maintain an understanding of _what_ a matrix represents, and oftentimes this means having discipline-specific experts to collaborate with.\n",
    "\n",
    "## Creating a matrix using `numpy`\n",
    "In the following chunk of code, we'll create a `numpy` array named `Ate_Yesterday` to represent the matrix we defined above."
   ]
  },
  {
   "cell_type": "code",
   "execution_count": null,
   "id": "willing-surgeon",
   "metadata": {},
   "outputs": [],
   "source": [
    "Ate_Yesterday = np.array([ [3, 24, 6], [2, 8, 3], [1, 0, 15], [2, 11, 3] ])\n",
    "\n",
    "print(Ate_Yesterday)"
   ]
  },
  {
   "cell_type": "markdown",
   "id": "missing-daily",
   "metadata": {},
   "source": [
    "If we were worried about remembering what the name of the columns or rows of the table were, we could create arrays to help us:"
   ]
  },
  {
   "cell_type": "code",
   "execution_count": null,
   "id": "later-madonna",
   "metadata": {},
   "outputs": [],
   "source": [
    "columns = np.array([ 'Sandwiches', 'Grapes', 'Cookies' ])\n",
    "rows = np.array([ 'Izabel', 'Anoma', 'Brandi', 'Emmott' ])"
   ]
  },
  {
   "cell_type": "markdown",
   "id": "preliminary-lotus",
   "metadata": {},
   "source": [
    "### Zero-indexing in Python\n",
    "If you've never used python before, a really important thing to know is that _everything_ is \"zero-indexed\". This means that the _first_ of any list or array is the \"zero-th\" element. \n",
    "\n",
    "So if we wanted to know the first row in the table, we would type `print(rows[0])`"
   ]
  },
  {
   "cell_type": "code",
   "execution_count": null,
   "id": "systematic-person",
   "metadata": {},
   "outputs": [],
   "source": [
    "print(rows[0])"
   ]
  },
  {
   "cell_type": "markdown",
   "id": "french-timing",
   "metadata": {},
   "source": [
    "### Accessing and editing elements of a matrix\n",
    "\n",
    "What if we wanted to know how many cookies Anoma ate yesterday? Since Anoma is the _second_ row in the table, we know her corresponding row in the matrix is `1`. Since cookies are the _third_ column in the table, we know the corresponding column in the matrix is `2`. In math, we'd say we want to know the (1,2) element of the matrix. To do so, we would type `print( Ate_Yesterday[1,2])`."
   ]
  },
  {
   "cell_type": "code",
   "execution_count": null,
   "id": "regulation-vermont",
   "metadata": {},
   "outputs": [],
   "source": [
    "print(Ate_Yesterday[1, 2])"
   ]
  },
  {
   "cell_type": "markdown",
   "id": "excess-rapid",
   "metadata": {},
   "source": [
    "When we type brackets `[]` next to the matrix, we are telling python we want to access some value of the matrix. Notice that the row number always goes first, and the column number second. In this same way we can rewrite elements of the matrix!\n",
    "\n",
    "Let's say that I realized I had mis-counted and remembered that I actually ate 14 cookies yesterday. If we wanted to update our matrix to reflect this (without re-creating the entire thing!) we could do so by re-writing the (0, 2) element of the matrix:"
   ]
  },
  {
   "cell_type": "code",
   "execution_count": null,
   "id": "significant-lightning",
   "metadata": {},
   "outputs": [],
   "source": [
    "Ate_Yesterday[0, 2] = 14\n",
    "print(Ate_Yesterday[0, 2])"
   ]
  },
  {
   "cell_type": "markdown",
   "id": "bulgarian-charger",
   "metadata": {},
   "source": [
    "What if I wanted to know everything that Emmott ate yesterday? I _could_ ask to print each individual element of their corresponding row by typing `print(Ate_Yesterday[3, 0], Ate_Yesterday[3, 1], Ate_Yesterday[3, 2])`. This is a bit annoying! Another approach would be to use what I like to call the \"all-symbol\" in python, `:`. If I wanted to print _all_ of Emmott's row, I could instead type `print(Ate_Yesterday[3, :])`!"
   ]
  },
  {
   "cell_type": "code",
   "execution_count": null,
   "id": "molecular-portrait",
   "metadata": {},
   "outputs": [],
   "source": [
    "print(Ate_Yesterday[3, 0], Ate_Yesterday[3, 1], Ate_Yesterday[3, 2])\n",
    "\n",
    "print(Ate_Yesterday[3, :])"
   ]
  },
  {
   "cell_type": "markdown",
   "id": "generic-military",
   "metadata": {},
   "source": [
    "We can use the \"all-symbol\" for columns, too! If I wanted to know how many grapes each person ate yesterday, I could write `print(Ate_Yesterday[:, 1])`"
   ]
  },
  {
   "cell_type": "code",
   "execution_count": null,
   "id": "alien-prison",
   "metadata": {},
   "outputs": [],
   "source": [
    "print(Ate_Yesterday[:, 1])"
   ]
  },
  {
   "cell_type": "markdown",
   "id": "owned-glenn",
   "metadata": {},
   "source": [
    "## Printing the shape of a matrix\n",
    "What if we want to make sure what the size of our matrix is? Use the `np.shape()` function."
   ]
  },
  {
   "cell_type": "code",
   "execution_count": null,
   "id": "respiratory-monitor",
   "metadata": {},
   "outputs": [],
   "source": [
    "np.shape(Ate_Yesterday)"
   ]
  },
  {
   "cell_type": "markdown",
   "id": "minute-admission",
   "metadata": {},
   "source": [
    "If you want to know the length of a one-dimensional array or a list, an easy way to do this is by using the `len()` function."
   ]
  },
  {
   "cell_type": "code",
   "execution_count": null,
   "id": "hourly-virtue",
   "metadata": {},
   "outputs": [],
   "source": [
    "len(columns)"
   ]
  },
  {
   "cell_type": "markdown",
   "id": "wrong-lingerie",
   "metadata": {},
   "source": [
    "## Initializing a matrix\n",
    "What if I don't know what values I want in my matrix, but I want to create it so it's easier to fill in later? To do this, it's nice to use the `zeros()` function. To use it, you just need to type `np.zeros( (n,m) )` where `n` is the number of rows you'd like to have and `m` is the number of columns."
   ]
  },
  {
   "cell_type": "code",
   "execution_count": null,
   "id": "horizontal-assignment",
   "metadata": {},
   "outputs": [],
   "source": [
    "empty = np.zeros( (4,3) )\n",
    "print(empty)"
   ]
  },
  {
   "cell_type": "markdown",
   "id": "adapted-parts",
   "metadata": {},
   "source": [
    "This is a good technique for initializing a matrix that will be _sparse_ (meaning: have lots of zeros in it). Then, I can _edit_ the entries of the matrix which are nonzero. \n",
    "For example, if I want to represent the following matrix:\n",
    "$$\\begin{bmatrix} 0 & 0 & 1 \\\\ 0 & 0 & 0 \\\\ 0 & 1 & 0 \\\\ 1 & 0 & 0 \\end{bmatrix}$$\n",
    "then I can edit the corresponding entries of our `empty` array above."
   ]
  },
  {
   "cell_type": "code",
   "execution_count": null,
   "id": "featured-partition",
   "metadata": {},
   "outputs": [],
   "source": [
    "empty[0, 2] = 1\n",
    "empty[2, 1] = 1\n",
    "empty[3, 0] = 1\n",
    "print(empty)"
   ]
  },
  {
   "cell_type": "markdown",
   "id": "documented-rochester",
   "metadata": {},
   "source": [
    "## Saving a numpy array\n",
    "Sometimes we might want to save our `numpy` array, so that we don't have to re-type everything we did to initialize it. If we save it, we can use it in other notebooks, across different files, and even if we restart our \"Kernel\" somehow.\n",
    "\n",
    "If we know we're just going to use our array/matrix with `numpy`, we can save it as an `.npy` file. If we want to save it in a more general format, we can save it as a `.csv` file. `.csv` stands for \"comma separated values, and files of this type can be opened with excel, numbers, or read by any other programming language."
   ]
  },
  {
   "cell_type": "code",
   "execution_count": null,
   "id": "fluid-colon",
   "metadata": {},
   "outputs": [],
   "source": [
    "np.save('Ate_Yesterday', Ate_Yesterday)\n",
    "np.savetxt('Ate_Yesterday.csv', Ate_Yesterday)"
   ]
  },
  {
   "cell_type": "markdown",
   "id": "heard-enterprise",
   "metadata": {},
   "source": [
    "# Adjacency matrices\n",
    "\n",
    "Imagine there's a group of 7 people; Felicity, Solomon, Bradley, Minton, Silus, Shauna, Merika. If we asked them all, \"Are you friends with X?\" and represented their answers as a table, it might look something like this:\n",
    "\n",
    "| |Felicity | Solomon | Bradley | Minton | Silus | Shauna | Merika |\n",
    "|--- | --- | --- | --- | --- | --- | --- | --- | \n",
    "Felicity | | Y | N | Y | N | Y | Y \n",
    "Solomon | Y | | Y | N | Y | N | Y |\n",
    "Bradley  | N | Y | | N | Y | Y | Y |\n",
    "Minton   | N | Y | Y | | N | N | Y |\n",
    "Silus  | Y | Y | N | Y | | Y | N |\n",
    "Shauna | N | Y | N | N | Y |  | N |\n",
    "Merika | Y | Y | N | N | Y | Y |  |      \n",
    "\n",
    "\n",
    "If we changed all the \"Yes\" values in the table to \"1\"s and all the \"No\" values to \"0\"s, it would look like this,\n",
    "\n",
    "| |Felicity | Solomon | Bradley | Minton | Silus | Shauna | Merika |\n",
    "|--- | --- | --- | --- | --- | --- | --- | --- | \n",
    "Felicity | 0 | 1 | 1 | 1 | 0 | 1 | 1 | \n",
    "Solomon | 1 | 0 | 1 | 0 | 1 | 0 | 1 |\n",
    "Bradley  | 0 | 1 | 0 | 1 | 1 | 1 | 1 |\n",
    "Minton   | 0 | 1 | 1 | 0 | 0 | 0 | 1 |\n",
    "Silus  | 1 | 1 | 0 | 1 | 0 | 1 | 0 |\n",
    "Shauna | 0 | 1 | 0 | 0 | 1 | 0 | 0 |\n",
    "Merika | 1 | 1 | 0 | 0 | 1 | 1 |  0|    \n",
    "\n",
    "If we made the above table into a matrix, it would look like, \n",
    "\n",
    "$$\\begin{bmatrix}  0 & 1 & 1 & 1 & 0 & 1 & 1 \\\\ 1 & 0 & 1 & 0 & 1 & 0 & 1 \\\\ 0 & 1 & 0 & 1 & 1 & 1 & 1 \\\\ 0 & 1 & 1 & 0 & 0 & 0 & 1 \\\\ 1 & 1 & 0 & 1 & 0 & 1 & 0 \\\\ 0 & 1 & 0 & 0 & 1 & 0 & 0\\\\  1 & 1 & 0 & 0 & 1 & 1 &  0\\end{bmatrix}$$\n",
    "\n",
    "Like we talked about last week, this is our _adjacency matrix_ that represents the friendship network for these 7 people.\n",
    "\n",
    "## TASK: \n",
    "Make a numpy array called `friends` to represent this network using an adjacency matrix. Save the array as a `.npy` file called `friends.npy`."
   ]
  },
  {
   "cell_type": "code",
   "execution_count": null,
   "id": "impaired-incidence",
   "metadata": {},
   "outputs": [],
   "source": []
  },
  {
   "cell_type": "markdown",
   "id": "primary-washington",
   "metadata": {},
   "source": [
    "### _Challenge Part I_\n",
    "If you have extra time:\n",
    "* make an array called `names` to keep track of the names of the people in this social network, so that we can know that person 0 is Felicity, Person 1 is Solomon, and so on.\n",
    "* Above we accessed elements of the matrix using indices. `Ate_Yesterday[2, 1]` told us how many grapes Malcolm ate yesterday. Can you think of a way to access elements of the matrix just using the lists `columns` and `rows`, the names `Izabel`, `Anoma`, `Brandi`, and `Emmott`, and the food items `Sandwiches`, `Grapes`, and `Cookies`? \n",
    "* Adapt your code so that we can access the elements of the adjacency matrix above just using the `names` array and the names of the friends above."
   ]
  },
  {
   "cell_type": "code",
   "execution_count": null,
   "id": "whole-consciousness",
   "metadata": {},
   "outputs": [],
   "source": []
  },
  {
   "cell_type": "markdown",
   "id": "congressional-printer",
   "metadata": {},
   "source": [
    "# Importing network data\n",
    "Above, we discussed saving network data as an adjacency matrix in either a `.npy` or `.csv` format. In reality, there are LOTS of ways that network data can be saved. We won't get into the details of these other formats, but you can imagine that using `numpy` to represent networks is only one way to do so-- if we were still using Python, we could use `pandas` or `scipy`. Instead of using Python, we could use R or Stata or ... or! \n",
    "\n",
    "Furthermore, sometimes networks are saved according to their corresponding **edge list**. To see why that might be the case, consider the social network above. There are $7\\times7 = 49$ entries in the matrix, but only 27 edges. Edge lists save the important information about where edges exist, whereas adjacency matrices save this information _and_ the complementary information about where edges _don't_ exist. \n",
    "\n",
    "\n",
    "This is all to say that we're only learning a smidge of the possible ways that networks can be saved/represented. I'm mentioning this so that if you encounter a network dataset online that doesn't look like what you're used to, that's totally normal. I'll make sure that the networks you all analyse are saved as `.csv` files representing the corresponding adjacency matrices. \n",
    "\n",
    "## Importing `.csv` files\n",
    "Lets import our BFF network from the first day of class, which I've saved in the file `math1010_network.csv`. "
   ]
  },
  {
   "cell_type": "code",
   "execution_count": null,
   "id": "subjective-chase",
   "metadata": {},
   "outputs": [],
   "source": [
    "folder = \"\"\n",
    "file = \"math1010_network\"\n",
    "ext = \".csv\"\n",
    "BFF_Adjacency = np.genfromtxt( folder+file+ext )"
   ]
  },
  {
   "cell_type": "markdown",
   "id": "radical-amateur",
   "metadata": {},
   "source": [
    "## Importing `.npy` files\n",
    "I also have the file saved as a `.npy` file. Below we're rewriting the `BFF_Adjacency` array we created below. In practice, we should just do one or the other of these, not both. We're doing both here so you can see the syntax for loading in `.csv` and `.npy` files. "
   ]
  },
  {
   "cell_type": "code",
   "execution_count": 2,
   "id": "developed-resource",
   "metadata": {},
   "outputs": [],
   "source": [
    "folder = \"\"\n",
    "file = \"math1010_network\"\n",
    "ext = \".npy\"\n",
    "BFF_Adjacency = np.load( folder+file+ext )"
   ]
  },
  {
   "cell_type": "markdown",
   "id": "multiple-waters",
   "metadata": {},
   "source": [
    "# Using `networkx`\n",
    "\n",
    "## Create a Network Object\n",
    "\n",
    "In order to use the amazing tools in the `networkx` library, we first have to create a network object. There's a lot going on behind the scenes of this function, but basically it's defining the _nodes_ and _edges_ given by the adjacency matrix.\n",
    "\n",
    "There _are_ other ways to define a network using `networkx`. However, since it's common to receive network data through an adjacency matrix in a `.csv` file, I've found this method for defining a network to be most useful.\n",
    "\n",
    "If your network is _directed_ you need to make sure you use the `create_using = nx.DiGraph` parameter when you call the function"
   ]
  },
  {
   "cell_type": "code",
   "execution_count": 5,
   "id": "instant-justice",
   "metadata": {},
   "outputs": [],
   "source": [
    "BFF_Network = nx.from_numpy_array(BFF_Adjacency, create_using = nx.DiGraph)"
   ]
  },
  {
   "cell_type": "markdown",
   "id": "blank-hollywood",
   "metadata": {},
   "source": [
    "## Determine the positioning of nodes\n",
    "\n",
    "The function `nx.spring_layout()` determines an optimal positioning of the nodes in the network through a physical simulation. The function treats edges as springs holding the nodes together, and treats the nodes as repelling objects. Simulation continues until the positions are close to an equilibrium.\n",
    "\n",
    "The parameter `k` tells the function the optimal distance between nodes. We'll see below that for this graph we want to set `k` to be bigger, whereas for other graphs, a smaller `k` is sufficient.\n",
    "\n",
    "It's helpful to _save_ the positioning of the graph so that it's easy to compare the same graph after nodes have been colored. We'll see that if we don't do this, the graph changes positions with each `nx.spring_layout()` simulation."
   ]
  },
  {
   "cell_type": "code",
   "execution_count": null,
   "id": "automatic-spray",
   "metadata": {},
   "outputs": [],
   "source": [
    "pos = nx.spring_layout(BFF_Network, k=0.5)"
   ]
  },
  {
   "cell_type": "code",
   "execution_count": null,
   "id": "dental-bearing",
   "metadata": {},
   "outputs": [],
   "source": [
    "cir_pos = nx.circular_layout(BFF_Network)"
   ]
  },
  {
   "cell_type": "markdown",
   "id": "bizarre-earth",
   "metadata": {},
   "source": [
    "## Plot the network\n",
    "The function `nx.draw()` plots our network given certain parameters. The first parameter is the network object, the second parameter is the given position of each node."
   ]
  },
  {
   "cell_type": "code",
   "execution_count": null,
   "id": "increasing-timer",
   "metadata": {},
   "outputs": [],
   "source": [
    "nx.draw(BFF_Network, pos, node_color='m', node_size=200, edge_color='grey', with_labels=False)"
   ]
  },
  {
   "cell_type": "markdown",
   "id": "numeric-herald",
   "metadata": {},
   "source": [
    "This is cool to see, but when we did our first-day exercise, we actually stood in a circle. This is closer to what we saw:"
   ]
  },
  {
   "cell_type": "code",
   "execution_count": null,
   "id": "rural-inspection",
   "metadata": {},
   "outputs": [],
   "source": [
    "nx.draw(BFF_Network, cir_pos, node_color='m', node_size=200, edge_color='grey', with_labels=False)"
   ]
  },
  {
   "cell_type": "markdown",
   "id": "iraqi-statistics",
   "metadata": {},
   "source": [
    "## Change parameters of the plot\n",
    "Try different colors for the `node_color` parameter to see what colors you can use. Google \"matplotlib colors\" to see what options you have! For example, `c` is a beautiful cyan color and `k` is black, whereas `r` is red!\n",
    "\n",
    "The `node_size` parameter will change the size of your nodes!\n",
    "\n",
    "Change the color of your edges with the `edge_color` parameter\n",
    "\n",
    "Change the `with_labels` parameter to view labels."
   ]
  },
  {
   "cell_type": "code",
   "execution_count": null,
   "id": "framed-knitting",
   "metadata": {},
   "outputs": [],
   "source": [
    "nx.draw(BFF_Network, pos, node_color='c', node_size=300, edge_color='black', with_labels=True)"
   ]
  },
  {
   "cell_type": "markdown",
   "id": "encouraging-blond",
   "metadata": {},
   "source": [
    "## Labeling Nodes using `networkx`\n",
    "\n",
    "It might be nice to label nodes according to their names, so that when we plot a network we see names instead of IDs!\n",
    "\n",
    "The way to do that is by defining a _dictionary_ object that defines what to label each node.\n",
    "\n",
    "A dictionary is a python object that acts as a way to \"lookup\" the meaning of things. Dictionaries are defined by _key, value_ pairs. \n",
    "\n",
    "I like to think of dictionaries in the following way: if I had a secret language I wanted to use to communicate with a friend, I would also have to provide the decoder to them.\n",
    "\n",
    "For example, I could ask my friend, \"Good jeans plant man?\", and then provide a decoder, or a _**dictionary**_ that looked like `decoder = {'jeans': 'are', 'plant': 'you, 'good': 'how', 'man': 'today'}`. My friend could then use the dictionary to decode the message by looking up the words I gave them in the dictionary: `print(decoder['good'], decoder['jeans'], decoder['plant'], decoder['man'], '?')`"
   ]
  },
  {
   "cell_type": "code",
   "execution_count": null,
   "id": "mathematical-shoot",
   "metadata": {},
   "outputs": [],
   "source": [
    "decoder = {'jeans': 'are', \n",
    "           'plant': 'you', \n",
    "           'good': 'how', \n",
    "           'man': 'today'}\n",
    "print(decoder['good'], decoder['jeans'], decoder['plant'], decoder['man'], '?')"
   ]
  },
  {
   "cell_type": "code",
   "execution_count": null,
   "id": "flush-herald",
   "metadata": {},
   "outputs": [],
   "source": [
    "name_dictionary = {\n",
    "    0: \"Chelpang\",\n",
    "    1: \"Kavina\",\n",
    "    2: \"Grace\",\n",
    "    3: \"David\",\n",
    "    4: \"Tianyu\",\n",
    "    5: \"Andrew\",\n",
    "    6: \"Alexandra\",\n",
    "    7: \"Mariia\",\n",
    "    8: \"Dominic\",\n",
    "    9: \"Breanna\",\n",
    "    10: \"Peter\",\n",
    "    11: \"Ha\",\n",
    "    12: \"Tim\",\n",
    "    13: \"Charles\",\n",
    "    14: \"Nathan\",\n",
    "    15: \"Isaac\",\n",
    "    16: \"Finn\",\n",
    "    17: \"Dylan\",\n",
    "    18: \"Christopher\",\n",
    "    19: \"Nina\",\n",
    "    20: \"Nicholas Sliter\",\n",
    "    21: \"Nick Smith\",\n",
    "    22: \"Hedavam\",\n",
    "    23: \"Zoe\",\n",
    "    24: \"Masa\"\n",
    "}"
   ]
  },
  {
   "cell_type": "markdown",
   "id": "noted-bench",
   "metadata": {},
   "source": [
    "Alternatively, the following code does the exact same thing. It's a bit more complicated so don't worry if you don't understand what's happening. I'm mostly putting it here so you can reference it in the future if you'd like to. "
   ]
  },
  {
   "cell_type": "code",
   "execution_count": null,
   "id": "diverse-figure",
   "metadata": {},
   "outputs": [],
   "source": [
    "students = [ \"Chelpang\", \"Kavina\", \"Grace\", \"David\", \"Tianyu\", \"Andrew\", \"Alexandra\", \"Mariia\",\n",
    "    \"Dominic\", \"Breanna\", \"Peter\", \"Ha\", \"Tim\", \"Charles\", \"Nathan\", \"Isaac\", \"Finn\", \"Dylan\", \n",
    "            \"Christopher\", \"Nina\", \"Nicholas Sliter\", \"Nick Smith\", \"Hedavam\", \"Zoe\", \"Masa\"]\n",
    "name_dictionary = { i : students[i] for i in range(0, len(students) ) }"
   ]
  },
  {
   "cell_type": "markdown",
   "id": "religious-private",
   "metadata": {},
   "source": [
    "Now, we need to redefine the network with our new labels, _and_ redefine the positions of our nodes, now that they have different names. "
   ]
  },
  {
   "cell_type": "code",
   "execution_count": null,
   "id": "authentic-triangle",
   "metadata": {},
   "outputs": [],
   "source": [
    "BFF_Network = nx.relabel_nodes(BFF_Network, name_dictionary)\n",
    "pos = nx.spring_layout(BFF_Network, k=.5)"
   ]
  },
  {
   "cell_type": "markdown",
   "id": "prepared-fence",
   "metadata": {},
   "source": [
    "In the following code chunk, I'm doing two things we haven't done before: \n",
    "* redefining the size of the figure that we're plotting our network on using `plt.figure`\n",
    "* changing the size of the font that we're labeling our nodes with using `font_size`"
   ]
  },
  {
   "cell_type": "code",
   "execution_count": null,
   "id": "flush-tutorial",
   "metadata": {},
   "outputs": [],
   "source": [
    "plt.figure(figsize = (18,8) )\n",
    "nx.draw(BFF_Network, pos, node_color='c', node_size=800, edge_color='grey', with_labels=True, font_size = 20)"
   ]
  },
  {
   "cell_type": "markdown",
   "id": "stone-assistant",
   "metadata": {},
   "source": [
    "## Change colors of just a few nodes\n",
    "There are `len(CG_Adjacency)` nodes in the network, so we'll make a list of one color, and then change some of the values corresponding to the nodes we want to change!\n",
    "\n",
    "To do so, we have to make a list the length of the number of nodes in the graph/network. Then we specify the color of each node based on the color in the list. "
   ]
  },
  {
   "cell_type": "code",
   "execution_count": null,
   "id": "overall-discovery",
   "metadata": {},
   "outputs": [],
   "source": [
    "len(BFF_Adjacency)"
   ]
  },
  {
   "cell_type": "code",
   "execution_count": null,
   "id": "freelance-progress",
   "metadata": {},
   "outputs": [],
   "source": [
    "colors = ['c'] * len(BFF_Adjacency)\n",
    "colors[0] = 'm'\n",
    "colors[11:14] = ['m']*3"
   ]
  },
  {
   "cell_type": "code",
   "execution_count": null,
   "id": "spanish-consent",
   "metadata": {},
   "outputs": [],
   "source": [
    "plt.figure(figsize = (18,8) )\n",
    "nx.draw(BFF_Network, pos, node_color=colors, node_size=800, edge_color='grey', with_labels=True, font_size = 20)"
   ]
  },
  {
   "cell_type": "markdown",
   "id": "cardiac-cookbook",
   "metadata": {},
   "source": [
    "# TASK \n",
    "Plot the friendship network from the first activity. Make sure you label the nodes with their names and give them all a pretty colour."
   ]
  },
  {
   "cell_type": "code",
   "execution_count": null,
   "id": "capital-immune",
   "metadata": {},
   "outputs": [],
   "source": []
  },
  {
   "cell_type": "markdown",
   "id": "interstate-recovery",
   "metadata": {},
   "source": [
    "### _Challenge Part II_\n",
    "We don't _need_ to redefine the position of the nodes now that they're renamed. Figure out a way to use the same position of the nodes as when we were plotting them according to their numbers. \n",
    "\n",
    "_Hint_: look up what type of object the function `spring_layout` returns"
   ]
  },
  {
   "cell_type": "code",
   "execution_count": null,
   "id": "serial-anaheim",
   "metadata": {},
   "outputs": [],
   "source": []
  },
  {
   "cell_type": "markdown",
   "id": "british-former",
   "metadata": {},
   "source": [
    "### _Challenge Part III_\n",
    "I generated the BFF network for our class by independently assigning each person an out degree $d_{out}$ of 0, 1, 2, or 3, with equal probability. Then, I chose $d_{out}$ best friends from the class list uniformly at random (without replacement). Generate a new BFF network for our class using the same process. Then, plot and save this graph."
   ]
  },
  {
   "cell_type": "code",
   "execution_count": null,
   "id": "protected-disco",
   "metadata": {},
   "outputs": [],
   "source": []
  },
  {
   "cell_type": "markdown",
   "id": "recorded-exhibition",
   "metadata": {},
   "source": [
    "# Great work!\n",
    "That's it for today!\n",
    "\n",
    "**Write your name at the top of this notebook, save it, and upload it to your GitHub** Then tag `@izabel-aguiar` in the commit.\n",
    "\n",
    "Please come to office hours on Thursday if you have any questions about anything we went over today-- it'll be important to understand for next week's Computer Lab, as well as for the final project. "
   ]
  },
  {
   "cell_type": "code",
   "execution_count": null,
   "id": "military-james",
   "metadata": {},
   "outputs": [],
   "source": []
  },
  {
   "cell_type": "markdown",
   "id": "small-inside",
   "metadata": {},
   "source": [
    "### _Challenge Part IV_\n",
    "* Read about [Erd&ouml;s R&eacute;nyi Graphs](https://en.wikipedia.org/wiki/Erdős–Rényi_model)\n",
    "* Figure out how the `erdos_renyi_graph` funciton works on [networkx](https://networkx.org/documentation/stable/reference/generated/networkx.generators.random_graphs.erdos_renyi_graph.html)\n",
    "* Generate and plot an Erd&ouml;s-R&eacute;nyi graph with 500 nodes whose edge probability is $0.3$ and plot it\n",
    "* Generate and plot an Erd&ouml;s-R&eacute;nyi graph with 500 nodes whose edge probability is $0.03$ and plot it"
   ]
  },
  {
   "cell_type": "code",
   "execution_count": null,
   "id": "copyrighted-funds",
   "metadata": {},
   "outputs": [],
   "source": []
  }
 ],
 "metadata": {
  "kernelspec": {
   "display_name": "Python 3",
   "language": "python",
   "name": "python3"
  },
  "language_info": {
   "codemirror_mode": {
    "name": "ipython",
    "version": 3
   },
   "file_extension": ".py",
   "mimetype": "text/x-python",
   "name": "python",
   "nbconvert_exporter": "python",
   "pygments_lexer": "ipython3",
   "version": "3.8.8"
  }
 },
 "nbformat": 4,
 "nbformat_minor": 5
}
